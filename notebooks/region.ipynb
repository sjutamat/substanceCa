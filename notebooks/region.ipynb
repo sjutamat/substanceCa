{
 "cells": [
  {
   "cell_type": "code",
   "execution_count": 10,
   "metadata": {},
   "outputs": [],
   "source": [
    "import pandas as pd\n",
    "data = pd.read_csv('../datasets/cleaned/substance_data.csv')"
   ]
  },
  {
   "cell_type": "code",
   "execution_count": 11,
   "metadata": {},
   "outputs": [],
   "source": [
    "data = data[\n",
    "    (data['Region']!='Canada') & \n",
    "    (data['Unit']!= 'Crude rate') &\n",
    "    (data['Time_Period']=='By year')]\n",
    "data.to_csv(\"../datasets/cleaned/region_data.csv\")"
   ]
  },
  {
   "cell_type": "code",
   "execution_count": 12,
   "metadata": {},
   "outputs": [],
   "source": [
    "data = pd.read_csv('../datasets/cleaned/region_data.csv')"
   ]
  },
  {
   "cell_type": "code",
   "execution_count": 13,
   "metadata": {},
   "outputs": [],
   "source": [
    "#Overall number for Opioid\n",
    "opioid = data[\n",
    "    (data['Substance']=='Opioids')&\n",
    "    (data['Specific_Measure'] == 'Overall numbers')\n",
    "    ]\n",
    "\n",
    "opioid.to_csv(\"../datasets/cleaned/overall_opioids.csv\")"
   ]
  },
  {
   "cell_type": "code",
   "execution_count": 14,
   "metadata": {},
   "outputs": [],
   "source": [
    "#Overall number of Stimulants\n",
    "stimulant = data[ \n",
    "    (data['Substance']=='Stimulants') &\n",
    "    (data['Specific_Measure']== 'Overall numbers')\n",
    "]\n",
    "\n",
    "stimulant.to_csv(\"../datasets/cleaned/overall_stimulants.csv\")"
   ]
  }
 ],
 "metadata": {
  "kernelspec": {
   "display_name": "sst",
   "language": "python",
   "name": "python3"
  },
  "language_info": {
   "codemirror_mode": {
    "name": "ipython",
    "version": 3
   },
   "file_extension": ".py",
   "mimetype": "text/x-python",
   "name": "python",
   "nbconvert_exporter": "python",
   "pygments_lexer": "ipython3",
   "version": "3.9.6"
  }
 },
 "nbformat": 4,
 "nbformat_minor": 2
}
