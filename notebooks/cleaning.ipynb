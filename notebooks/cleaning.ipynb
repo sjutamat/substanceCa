{
 "cells": [
  {
   "cell_type": "code",
   "execution_count": 1,
   "metadata": {},
   "outputs": [],
   "source": [
    "import pandas as pd"
   ]
  },
  {
   "cell_type": "code",
   "execution_count": 3,
   "metadata": {},
   "outputs": [
    {
     "name": "stdout",
     "output_type": "stream",
     "text": [
      "(27909, 12)\n",
      "<class 'pandas.core.frame.DataFrame'>\n",
      "RangeIndex: 27909 entries, 0 to 27908\n",
      "Data columns (total 12 columns):\n",
      " #   Column            Non-Null Count  Dtype \n",
      "---  ------            --------------  ----- \n",
      " 0   Substance         27909 non-null  object\n",
      " 1   Source            27909 non-null  object\n",
      " 2   Specific_Measure  27909 non-null  object\n",
      " 3   Type_Event        27909 non-null  object\n",
      " 4   Region            27909 non-null  object\n",
      " 5   PRUID             27909 non-null  int64 \n",
      " 6   Time_Period       27909 non-null  object\n",
      " 7   Year_Quarter      27909 non-null  object\n",
      " 8   Aggregator        20284 non-null  object\n",
      " 9   Disaggregator     20284 non-null  object\n",
      " 10  Unit              27909 non-null  object\n",
      " 11  Value             23910 non-null  object\n",
      "dtypes: int64(1), object(11)\n",
      "memory usage: 2.6+ MB\n",
      "None\n",
      "  Substance  Source Specific_Measure                             Type_Event  \\\n",
      "0   Opioids  Deaths  Overall numbers  Total apparent opioid toxicity deaths   \n",
      "1   Opioids  Deaths  Overall numbers  Total apparent opioid toxicity deaths   \n",
      "2   Opioids  Deaths  Overall numbers  Total apparent opioid toxicity deaths   \n",
      "3   Opioids  Deaths  Overall numbers  Total apparent opioid toxicity deaths   \n",
      "4   Opioids  Deaths  Overall numbers  Total apparent opioid toxicity deaths   \n",
      "\n",
      "   Region  PRUID Time_Period Year_Quarter Aggregator Disaggregator  \\\n",
      "0  Canada      1     By year         2016        NaN           NaN   \n",
      "1  Canada      1     By year         2017        NaN           NaN   \n",
      "2  Canada      1     By year         2018        NaN           NaN   \n",
      "3  Canada      1     By year         2019        NaN           NaN   \n",
      "4  Canada      1     By year         2020        NaN           NaN   \n",
      "\n",
      "         Unit Value  \n",
      "0  Crude rate   7.8  \n",
      "1  Crude rate  10.7  \n",
      "2  Crude rate  11.4  \n",
      "3  Crude rate   9.9  \n",
      "4  Crude rate  16.8  \n",
      "Substance              0\n",
      "Source                 0\n",
      "Specific_Measure       0\n",
      "Type_Event             0\n",
      "Region                 0\n",
      "PRUID                  0\n",
      "Time_Period            0\n",
      "Year_Quarter           0\n",
      "Aggregator          7625\n",
      "Disaggregator       7625\n",
      "Unit                   0\n",
      "Value               3999\n",
      "dtype: int64\n",
      "Empty DataFrame\n",
      "Columns: [Substance, Source, Specific_Measure, Type_Event, Region, PRUID, Time_Period, Year_Quarter, Aggregator, Disaggregator, Unit, Value]\n",
      "Index: []\n"
     ]
    }
   ],
   "source": [
    "substance = '../datasets/initial/SubstanceHarmsData.csv'\n",
    "substance_data = pd.read_csv(substance)\n",
    "\n",
    "# check shape and structure\n",
    "print(substance_data.shape) # return number of Row and Column\n",
    "\n",
    "# Check data types\n",
    "print(substance_data.info())\n",
    "\n",
    "print(substance_data.head()) # return header columns with first 5 rows of sample data\n",
    "\n",
    "print(substance_data.isnull().sum()) # return list of column name with the number of the null values\n",
    "\n",
    "# Check duplicate values\n",
    "duplicates = substance_data[substance_data.duplicated()]\n",
    "print(duplicates)\n",
    "\n"
   ]
  },
  {
   "cell_type": "code",
   "execution_count": 4,
   "metadata": {},
   "outputs": [],
   "source": [
    "substance_data.to_csv('../datasets/cleaned/substance_data.csv', index=False)"
   ]
  }
 ],
 "metadata": {
  "kernelspec": {
   "display_name": "sst",
   "language": "python",
   "name": "python3"
  },
  "language_info": {
   "codemirror_mode": {
    "name": "ipython",
    "version": 3
   },
   "file_extension": ".py",
   "mimetype": "text/x-python",
   "name": "python",
   "nbconvert_exporter": "python",
   "pygments_lexer": "ipython3",
   "version": "3.9.6"
  }
 },
 "nbformat": 4,
 "nbformat_minor": 2
}
